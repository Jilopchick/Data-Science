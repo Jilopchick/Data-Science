{
 "cells": [
  {
   "cell_type": "markdown",
   "metadata": {},
   "source": [
    "# Рекомендация тарифов"
   ]
  },
  {
   "cell_type": "markdown",
   "metadata": {},
   "source": [
    "В распоряжении данные о поведении клиентов, которые уже перешли на тарифы *\"Смарт\"* и *\"Ультра\"* из [Определение перспективного тарифа для телеком-компании](https://github.com/Jilopchick/Data-Science/tree/main/Projects-from-courses/Determining-a-promising-tariff-for-a-telecom-company). Нужно построить модель для задачи классификации, которая выберет подходящий тариф. Предобработка данных не понадобится, так как она уже была выполнена в предыдущем проекте.\n",
    "\n",
    "Необходимо построить модель с максимально большим значением `accuracy`. Чтобы считать проект выполненным, нужно довести долю правильных ответов по крайней мере до 0.75."
   ]
  },
  {
   "cell_type": "markdown",
   "metadata": {},
   "source": [
    "## Изучение данных из файла"
   ]
  },
  {
   "cell_type": "code",
   "execution_count": 1,
   "metadata": {},
   "outputs": [],
   "source": [
    "import pandas as pd\n",
    "from sklearn.model_selection import train_test_split\n",
    "from sklearn.tree import DecisionTreeClassifier\n",
    "from sklearn.ensemble import RandomForestClassifier\n",
    "from sklearn.linear_model import LogisticRegression\n",
    "from sklearn.metrics import accuracy_score\n",
    "import warnings\n",
    "import numpy as np"
   ]
  },
  {
   "cell_type": "code",
   "execution_count": 2,
   "metadata": {},
   "outputs": [],
   "source": [
    "warnings.filterwarnings(\"ignore\")"
   ]
  },
  {
   "cell_type": "code",
   "execution_count": 3,
   "metadata": {},
   "outputs": [],
   "source": [
    "df = pd.read_csv('users_behavior.csv')"
   ]
  },
  {
   "cell_type": "code",
   "execution_count": 4,
   "metadata": {},
   "outputs": [
    {
     "data": {
      "text/html": [
       "<div>\n",
       "<style scoped>\n",
       "    .dataframe tbody tr th:only-of-type {\n",
       "        vertical-align: middle;\n",
       "    }\n",
       "\n",
       "    .dataframe tbody tr th {\n",
       "        vertical-align: top;\n",
       "    }\n",
       "\n",
       "    .dataframe thead th {\n",
       "        text-align: right;\n",
       "    }\n",
       "</style>\n",
       "<table border=\"1\" class=\"dataframe\">\n",
       "  <thead>\n",
       "    <tr style=\"text-align: right;\">\n",
       "      <th></th>\n",
       "      <th>calls</th>\n",
       "      <th>minutes</th>\n",
       "      <th>messages</th>\n",
       "      <th>mb_used</th>\n",
       "      <th>is_ultra</th>\n",
       "    </tr>\n",
       "  </thead>\n",
       "  <tbody>\n",
       "    <tr>\n",
       "      <th>0</th>\n",
       "      <td>40.0</td>\n",
       "      <td>311.90</td>\n",
       "      <td>83.0</td>\n",
       "      <td>19915.42</td>\n",
       "      <td>0</td>\n",
       "    </tr>\n",
       "    <tr>\n",
       "      <th>1</th>\n",
       "      <td>85.0</td>\n",
       "      <td>516.75</td>\n",
       "      <td>56.0</td>\n",
       "      <td>22696.96</td>\n",
       "      <td>0</td>\n",
       "    </tr>\n",
       "    <tr>\n",
       "      <th>2</th>\n",
       "      <td>77.0</td>\n",
       "      <td>467.66</td>\n",
       "      <td>86.0</td>\n",
       "      <td>21060.45</td>\n",
       "      <td>0</td>\n",
       "    </tr>\n",
       "    <tr>\n",
       "      <th>3</th>\n",
       "      <td>106.0</td>\n",
       "      <td>745.53</td>\n",
       "      <td>81.0</td>\n",
       "      <td>8437.39</td>\n",
       "      <td>1</td>\n",
       "    </tr>\n",
       "    <tr>\n",
       "      <th>4</th>\n",
       "      <td>66.0</td>\n",
       "      <td>418.74</td>\n",
       "      <td>1.0</td>\n",
       "      <td>14502.75</td>\n",
       "      <td>0</td>\n",
       "    </tr>\n",
       "  </tbody>\n",
       "</table>\n",
       "</div>"
      ],
      "text/plain": [
       "   calls  minutes  messages   mb_used  is_ultra\n",
       "0   40.0   311.90      83.0  19915.42         0\n",
       "1   85.0   516.75      56.0  22696.96         0\n",
       "2   77.0   467.66      86.0  21060.45         0\n",
       "3  106.0   745.53      81.0   8437.39         1\n",
       "4   66.0   418.74       1.0  14502.75         0"
      ]
     },
     "execution_count": 4,
     "metadata": {},
     "output_type": "execute_result"
    }
   ],
   "source": [
    "df.head()"
   ]
  },
  {
   "cell_type": "code",
   "execution_count": 5,
   "metadata": {},
   "outputs": [
    {
     "name": "stdout",
     "output_type": "stream",
     "text": [
      "<class 'pandas.core.frame.DataFrame'>\n",
      "RangeIndex: 3214 entries, 0 to 3213\n",
      "Data columns (total 5 columns):\n",
      " #   Column    Non-Null Count  Dtype  \n",
      "---  ------    --------------  -----  \n",
      " 0   calls     3214 non-null   float64\n",
      " 1   minutes   3214 non-null   float64\n",
      " 2   messages  3214 non-null   float64\n",
      " 3   mb_used   3214 non-null   float64\n",
      " 4   is_ultra  3214 non-null   int64  \n",
      "dtypes: float64(4), int64(1)\n",
      "memory usage: 125.7 KB\n"
     ]
    }
   ],
   "source": [
    "df.info()"
   ]
  },
  {
   "cell_type": "code",
   "execution_count": 6,
   "metadata": {},
   "outputs": [
    {
     "data": {
      "text/plain": [
       "0"
      ]
     },
     "execution_count": 6,
     "metadata": {},
     "output_type": "execute_result"
    }
   ],
   "source": [
    "df.duplicated().sum()"
   ]
  },
  {
   "cell_type": "markdown",
   "metadata": {},
   "source": [
    "Данные в порядке, дубликатов нет. В предобработке не нужнаются.\n",
    "\n",
    "Подробнее опишем значения каждого атрибута.\n",
    "\n",
    "Таблица `df`(информация о поведении пользователей за месяц):\n",
    "- `calls` - количество звонков;\n",
    "- `minutes` - суммарная длительность звонков в минутах;\n",
    "- `messages` - количество сообщений;\n",
    "- `mb_used` - израсходованный интернет-трафик в Мб;\n",
    "- `is_ultra` - каким тарифом пользовался в течении месяца (1 - *\"Ультра\"*, 0 - *\"Смарт\"*)."
   ]
  },
  {
   "cell_type": "markdown",
   "metadata": {},
   "source": [
    "## Разбить данные"
   ]
  },
  {
   "cell_type": "markdown",
   "metadata": {},
   "source": [
    "Разобрьём наши данные на обучающую, валидационную и тестовую выборки. Развер обучающей выборки *50%*, валидационной - *25%*, тестовой - *25%*."
   ]
  },
  {
   "cell_type": "code",
   "execution_count": 7,
   "metadata": {},
   "outputs": [],
   "source": [
    "features_train, features_valid, target_train, target_valid = train_test_split(df.drop(['is_ultra'], axis=1),\n",
    "                                                                              df['is_ultra'], \n",
    "                                                                              test_size=0.5, \n",
    "                                                                              random_state=1337)\n",
    "\n",
    "features_valid, features_test, target_valid, target_test = train_test_split(features_valid, \n",
    "                                                                            target_valid, \n",
    "                                                                            test_size=0.5, \n",
    "                                                                            random_state=1337)"
   ]
  },
  {
   "cell_type": "markdown",
   "metadata": {},
   "source": [
    "## Исследование разных моделей"
   ]
  },
  {
   "cell_type": "markdown",
   "metadata": {},
   "source": [
    "### Дерево решений"
   ]
  },
  {
   "cell_type": "code",
   "execution_count": 8,
   "metadata": {},
   "outputs": [],
   "source": [
    "best_accuracy = 0\n",
    "best_depth = 0\n",
    "for depth in range(1, 101):\n",
    "    model = DecisionTreeClassifier(max_depth=depth, random_state=1337)\n",
    "    model.fit(features_train, target_train)\n",
    "    accuracy = accuracy_score(target_valid, model.predict(features_valid))\n",
    "    best_accuracy, best_depth = (accuracy, depth) if accuracy > best_accuracy else (best_accuracy, best_depth)"
   ]
  },
  {
   "cell_type": "code",
   "execution_count": 9,
   "metadata": {},
   "outputs": [
    {
     "name": "stdout",
     "output_type": "stream",
     "text": [
      "best accuracy = 0.8119551681195517 \n",
      "best depth = 7\n"
     ]
    }
   ],
   "source": [
    "print('best accuracy =', best_accuracy, '\\nbest depth =', best_depth)"
   ]
  },
  {
   "cell_type": "markdown",
   "metadata": {},
   "source": [
    "Таким образом, наилучшее значение `accuracy` достигается при грубине дерева равной 7, а само значение `accuracy` примерно равно 0.81."
   ]
  },
  {
   "cell_type": "markdown",
   "metadata": {},
   "source": [
    "### Случайный лес"
   ]
  },
  {
   "cell_type": "code",
   "execution_count": 10,
   "metadata": {},
   "outputs": [],
   "source": [
    "best_accuracy = 0\n",
    "best_depth = 0\n",
    "best_estimators = 0\n",
    "for est in range(2, 101):\n",
    "    for depth in range(1, 101):\n",
    "        model = RandomForestClassifier(max_depth=depth, n_estimators=est, random_state=1337)\n",
    "        model.fit(features_train, target_train)\n",
    "        accuracy = accuracy_score(target_valid, model.predict(features_valid))\n",
    "        best_accuracy, best_estimators, best_depth = (accuracy, est, depth) if accuracy > best_accuracy else (best_accuracy, best_estimators, best_depth)"
   ]
  },
  {
   "cell_type": "code",
   "execution_count": 11,
   "metadata": {},
   "outputs": [
    {
     "name": "stdout",
     "output_type": "stream",
     "text": [
      "best accuracy = 0.8293897882938979 \n",
      "best estimators = 34 \n",
      "best depth = 9\n"
     ]
    }
   ],
   "source": [
    "print('best accuracy =', best_accuracy, '\\nbest estimators =', best_estimators, '\\nbest depth =', best_depth)"
   ]
  },
  {
   "cell_type": "markdown",
   "metadata": {},
   "source": [
    "Наилучшее значение `accuracy` достигается при количестве деревьев равному 34, глубине дерева - 9, а само значение `accuracy` примерно равно 0.83."
   ]
  },
  {
   "cell_type": "markdown",
   "metadata": {},
   "source": [
    "### Логистическая регрессия"
   ]
  },
  {
   "cell_type": "code",
   "execution_count": 12,
   "metadata": {},
   "outputs": [],
   "source": [
    "solvers = ['lbfgs', 'liblinear', 'newton-cg', 'sag', 'saga']\n",
    "penaltys = ['l1', 'l2', 'none']\n",
    "best_solver = ''\n",
    "best_penalty = ''\n",
    "best_accuracy = 0\n",
    "\n",
    "for solv in solvers:\n",
    "    for pen in penaltys:\n",
    "        try: \n",
    "            model = LogisticRegression(solver=solv, max_iter=1000, penalty=pen, random_state=1337)\n",
    "            model.fit(features_train, target_train)\n",
    "            accuracy = model.score(features_valid, target_valid)\n",
    "            best_accuracy, best_solver, best_penalty = (accuracy, solv, pen) if accuracy > best_accuracy else (best_accuracy, best_solver, best_penalty)\n",
    "        except: \n",
    "            continue"
   ]
  },
  {
   "cell_type": "code",
   "execution_count": 13,
   "metadata": {},
   "outputs": [
    {
     "name": "stdout",
     "output_type": "stream",
     "text": [
      "best accuracy = 0.7621419676214197 \n",
      "best solver = lbfgs \n",
      "best penalty = l2\n"
     ]
    }
   ],
   "source": [
    "print('best accuracy =', best_accuracy, '\\nbest solver =', best_solver, '\\nbest penalty =', best_penalty)"
   ]
  },
  {
   "cell_type": "markdown",
   "metadata": {},
   "source": [
    "Наилучшее значение `accuracy` достигается при алгоритме оптимизации *lbfgs* и штрафе *l2*, значение `accuracy` получается примерно равным 0.76.\n",
    "\n",
    "Здесь вы использовали `model.score()`, что равноценно `accuracy_score()`. Преимущество такого метода в том, что не надо предварительно использовать `.predict()`."
   ]
  },
  {
   "cell_type": "markdown",
   "metadata": {},
   "source": [
    "**Проверив модели на валидационной выборке были следаны следующие выводы:**\n",
    "- самой точной моделью является **Случайный лес**, опираясь на оценку `accuracy`;\n",
    "- самыми быстрыми моделями являются **Дерево решений** и **Логистическая регрессия**;\n",
    "- остановимся на модели **Случайный лес**, хоть она и медленне остальных двух, зато имеет самую высокую точность."
   ]
  },
  {
   "cell_type": "markdown",
   "metadata": {},
   "source": [
    "## Проверка качества модели на тестовой выборке"
   ]
  },
  {
   "cell_type": "code",
   "execution_count": 14,
   "metadata": {},
   "outputs": [
    {
     "name": "stdout",
     "output_type": "stream",
     "text": [
      "Accuracy тестовой выборки = 0.7935323383084577\n"
     ]
    }
   ],
   "source": [
    "model = RandomForestClassifier(max_depth=9, n_estimators=34, random_state=1337)\n",
    "model.fit(features_train, target_train)\n",
    "print('Accuracy тестовой выборки =', model.score(features_test, target_test))"
   ]
  },
  {
   "cell_type": "markdown",
   "metadata": {},
   "source": [
    "`Accuracy` упало на 0.04. Однако результат **Случайного леса** на тестовой выборкевсё ещё удовлитворительный."
   ]
  },
  {
   "cell_type": "markdown",
   "metadata": {},
   "source": [
    "Дополнительно можно изучить и остальные модели с \"наилучшими\" гиперпараметрами."
   ]
  },
  {
   "cell_type": "markdown",
   "metadata": {},
   "source": [
    "**Дерево решений**"
   ]
  },
  {
   "cell_type": "code",
   "execution_count": 15,
   "metadata": {},
   "outputs": [
    {
     "name": "stdout",
     "output_type": "stream",
     "text": [
      "Accuracy тестовой выборки = 0.7848258706467661\n"
     ]
    }
   ],
   "source": [
    "model = DecisionTreeClassifier(max_depth=7, random_state=1337)\n",
    "model.fit(features_train, target_train)\n",
    "print('Accuracy тестовой выборки =', model.score(features_test, target_test))"
   ]
  },
  {
   "cell_type": "markdown",
   "metadata": {},
   "source": [
    "**Логистическая регрессия**"
   ]
  },
  {
   "cell_type": "code",
   "execution_count": 16,
   "metadata": {},
   "outputs": [
    {
     "name": "stdout",
     "output_type": "stream",
     "text": [
      "Accuracy тестовой выборки = 0.7313432835820896\n"
     ]
    }
   ],
   "source": [
    "model = LogisticRegression(solver='lbfgs', max_iter=1000, penalty='l2', random_state=1337)\n",
    "model.fit(features_train, target_train)\n",
    "print('Accuracy тестовой выборки =', model.score(features_test, target_test))"
   ]
  },
  {
   "cell_type": "markdown",
   "metadata": {},
   "source": [
    "Показатели `accuracy` моделей **Дерево решений** и **Логистическая регрессия** тоже упали."
   ]
  },
  {
   "cell_type": "markdown",
   "metadata": {},
   "source": [
    "**Вывод:**\n",
    "- `accuracy` модели на тестовой выборке приемлемо упала."
   ]
  },
  {
   "cell_type": "markdown",
   "metadata": {},
   "source": [
    "## Проверка модели на адекватность"
   ]
  },
  {
   "cell_type": "markdown",
   "metadata": {},
   "source": [
    "Для проверки на адекватность нашей модели напишем функцию, предсказывающую значение признака is_ultra самым простым способом - 50/50. Сравним, лучше ли наша модель."
   ]
  },
  {
   "cell_type": "code",
   "execution_count": 17,
   "metadata": {},
   "outputs": [
    {
     "name": "stdout",
     "output_type": "stream",
     "text": [
      "accuracy = 0.48880597014925375\n"
     ]
    }
   ],
   "source": [
    "random_prediction = np.random.randint(low=0, high=2, size=target_test.shape[0])\n",
    "print('accuracy =', accuracy_score(target_test, random_prediction))"
   ]
  },
  {
   "cell_type": "markdown",
   "metadata": {},
   "source": [
    "Как видно, случайные ответыошибаются примерно в *50%* случаев. Модель **Случайного леса** ошибается примерно в *20%* случаев."
   ]
  },
  {
   "cell_type": "markdown",
   "metadata": {},
   "source": [
    "**Выводы:**\n",
    "- модель **Случайного леса** точнее подкидывания монетки;\n",
    "- модель прошла проверку на адекватность/вменяемость."
   ]
  }
 ],
 "metadata": {
  "kernelspec": {
   "display_name": "Python 3 (ipykernel)",
   "language": "python",
   "name": "python3"
  },
  "language_info": {
   "codemirror_mode": {
    "name": "ipython",
    "version": 3
   },
   "file_extension": ".py",
   "mimetype": "text/x-python",
   "name": "python",
   "nbconvert_exporter": "python",
   "pygments_lexer": "ipython3",
   "version": "3.9.18"
  },
  "toc": {
   "base_numbering": 1,
   "nav_menu": {},
   "number_sections": true,
   "sideBar": true,
   "skip_h1_title": true,
   "title_cell": "Table of Contents",
   "title_sidebar": "Contents",
   "toc_cell": false,
   "toc_position": {},
   "toc_section_display": true,
   "toc_window_display": false
  }
 },
 "nbformat": 4,
 "nbformat_minor": 4
}
